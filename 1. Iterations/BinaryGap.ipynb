{
 "cells": [
  {
   "cell_type": "markdown",
   "metadata": {},
   "source": [
    "# BinaryGap"
   ]
  },
  {
   "cell_type": "markdown",
   "metadata": {},
   "source": [
    "A binary gap within a positive integer N is any maximal sequence of consecutive zeros that is surrounded by ones at both ends in the binary representation of N."
   ]
  },
  {
   "cell_type": "markdown",
   "metadata": {},
   "source": [
    "#### Example"
   ]
  },
  {
   "cell_type": "markdown",
   "metadata": {},
   "source": [
    "> N = 1041 the function should return 5, because N has binary representation 10000010001 and so its longest binary gap is of length 5. \n",
    "\n",
    "> N = 32 the function should return 0, because N has binary representation '100000' and thus no binary gaps."
   ]
  },
  {
   "cell_type": "markdown",
   "metadata": {},
   "source": [
    "### Method 1"
   ]
  },
  {
   "cell_type": "code",
   "execution_count": 3,
   "metadata": {},
   "outputs": [],
   "source": [
    "def solution_1(N):\n",
    "    \n",
    "    # Find k\n",
    "    ## Method 1\n",
    "    k = 0\n",
    "    while 2**k < N:\n",
    "        k += 1\n",
    "    \n",
    "    k -= 1\n",
    "       \n",
    "    # Initialization\n",
    "    q, r = N // 2**k, N%2**k\n",
    "    \n",
    "    list_binary_N = []\n",
    "    \n",
    "    while r > 0:\n",
    "        list_binary_N.append(q)\n",
    "        k -= 1\n",
    "        q, r = r // 2**k, r%2**k\n",
    "    \n",
    "    list_binary_N.append(q)\n",
    "    \n",
    "    # Start at second element\n",
    "    index = 1\n",
    "    \n",
    "    # Initialize counter\n",
    "    count = 0\n",
    "    max_count = 0    \n",
    "    \n",
    "    while index < len(list_binary_N):\n",
    "        if list_binary_N[index] == 1:\n",
    "            max_count = max(max_count, count)\n",
    "            count = 0\n",
    "        else:\n",
    "            count += 1\n",
    "        index += 1            \n",
    "    \n",
    "    return max_count"
   ]
  },
  {
   "cell_type": "markdown",
   "metadata": {},
   "source": [
    "### Method 2"
   ]
  },
  {
   "cell_type": "code",
   "execution_count": 4,
   "metadata": {},
   "outputs": [],
   "source": [
    "def solution_2(N):\n",
    "    \n",
    "    binary_expression_N = bin(N)[2:]\n",
    "    \n",
    "    list_binary_N = [i for i in binary_expression_N]\n",
    "    \n",
    "    # Start at second element\n",
    "    index = 1\n",
    "    \n",
    "    # Initialize counter\n",
    "    count = 0\n",
    "    max_count = 0    \n",
    "    \n",
    "    while index < len(list_binary_N):\n",
    "        if list_binary_N[index] == '1':\n",
    "            max_count = max(max_count, count)\n",
    "            count = 0\n",
    "        else:\n",
    "            count += 1\n",
    "        index += 1            \n",
    "    \n",
    "    return max_count"
   ]
  },
  {
   "cell_type": "markdown",
   "metadata": {},
   "source": [
    "# Tests "
   ]
  },
  {
   "cell_type": "code",
   "execution_count": null,
   "metadata": {},
   "outputs": [],
   "source": [
    "import unittest\n",
    "\n",
    "class TestBinaryGap(unittest.TestCase):\n",
    "\n",
    "    def test_example1(self):\n",
    "        self.assertEqual(5, solution(1041))\n",
    "\n",
    "    def test_example2(self):\n",
    "        self.assertEqual(0, solution(15))\n",
    "\n",
    "    def test_extremes(self):\n",
    "        self.assertEqual(0, solution(1))\n",
    "        self.assertEqual(1, solution(5))\n",
    "        self.assertEqual(0, solution(MAXINT))\n",
    "\n",
    "    def test_trailing_zeros(self):\n",
    "        self.assertEqual(solution(6), 0)\n",
    "        self.assertEqual(solution(328), 2)\n",
    "\n",
    "    def test_simple1(self):\n",
    "        self.assertEqual(solution(9), 2)\n",
    "        self.assertEqual(solution(11), 1)\n",
    "\n",
    "    def test_simple2(self):\n",
    "        self.assertEqual(solution(19), 2)\n",
    "        self.assertEqual(solution(42), 1)\n",
    "\n",
    "    def test_simple3(self):\n",
    "        self.assertEqual(solution(1162), 3)\n",
    "        self.assertEqual(solution(5), 1)\n",
    "\n",
    "    def test_medium1(self):\n",
    "        self.assertEqual(solution(51712), 2)\n",
    "        self.assertEqual(solution(20), 1)\n",
    "\n",
    "    def test_medium2(self):\n",
    "        self.assertEqual(solution(561892), 3)\n",
    "        self.assertEqual(solution(9), 2)\n",
    "\n",
    "    def test_medium3(self):\n",
    "        self.assertEqual(solution(66561), 9)\n",
    "\n",
    "    def test_large1(self):\n",
    "        self.assertEqual(solution(6291457), 20)\n",
    "\n",
    "    def test_large2(self):\n",
    "        self.assertEqual(solution(74901729), 4)\n",
    "\n",
    "    def test_large3(self):\n",
    "        self.assertEqual(solution(805306369), 27)\n",
    "\n",
    "    def test_large4(self):\n",
    "        self.assertEqual(solution(1376796946), 5)\n",
    "\n",
    "    def test_large5(self):\n",
    "        self.assertEqual(solution(1073741825), 29)\n",
    "\n",
    "    def test_large6(self):\n",
    "        self.assertEqual(solution(1610612737), 28)\n",
    "\n",
    "    #def test_non_int(self):\n",
    "        #self.assertRaises(TypeError, solution, 1.0)\n",
    "\n",
    "    #def test_zero(self):\n",
    "        #self.assertRaises(ValueError, solution, 0)\n",
    "\n",
    "    #def test_maxint_plus_one(self):\n",
    "        #self.assertRaises(ValueError, solution, 2147483648)\n",
    "\n",
    "\n",
    "if __name__ == '__main__':\n",
    "    unittest.main()\n",
    "    solution(1)\n"
   ]
  },
  {
   "cell_type": "code",
   "execution_count": null,
   "metadata": {},
   "outputs": [],
   "source": []
  }
 ],
 "metadata": {
  "kernelspec": {
   "display_name": "Python 3",
   "language": "python",
   "name": "python3"
  },
  "language_info": {
   "codemirror_mode": {
    "name": "ipython",
    "version": 3
   },
   "file_extension": ".py",
   "mimetype": "text/x-python",
   "name": "python",
   "nbconvert_exporter": "python",
   "pygments_lexer": "ipython3",
   "version": "3.7.4"
  }
 },
 "nbformat": 4,
 "nbformat_minor": 2
}
