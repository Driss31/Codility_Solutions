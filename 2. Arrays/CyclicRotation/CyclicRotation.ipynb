{
 "cells": [
  {
   "cell_type": "markdown",
   "metadata": {},
   "source": [
    "# CyclicRotation"
   ]
  },
  {
   "cell_type": "markdown",
   "metadata": {},
   "source": [
    "> The goal is to rotate array A K times; that is, each element of A will be shifted to the right K times."
   ]
  },
  {
   "cell_type": "code",
   "execution_count": null,
   "metadata": {},
   "outputs": [],
   "source": [
    "def solution(A, K):\n",
    "    # write your code in Python 3.6\n",
    "    n = len(A)\n",
    "    \n",
    "    new_A = [None] * n\n",
    "    \n",
    "    for i, elt in enumerate(A):\n",
    "        new_index = i + K \n",
    "        new_index = new_index % n\n",
    "        new_A[new_index] = elt\n",
    "    \n",
    "    return new_A"
   ]
  }
 ],
 "metadata": {
  "kernelspec": {
   "display_name": "Python 3",
   "language": "python",
   "name": "python3"
  },
  "language_info": {
   "codemirror_mode": {
    "name": "ipython",
    "version": 3
   },
   "file_extension": ".py",
   "mimetype": "text/x-python",
   "name": "python",
   "nbconvert_exporter": "python",
   "pygments_lexer": "ipython3",
   "version": "3.7.4"
  }
 },
 "nbformat": 4,
 "nbformat_minor": 2
}
