{
 "cells": [
  {
   "cell_type": "code",
   "execution_count": null,
   "metadata": {},
   "outputs": [],
   "source": [
    "def counting(A, m):\n",
    "    n = len(A)\n",
    "    count = [0] * m\n",
    "    for i in range(n):\n",
    "        count[A[i]] += 1\n",
    "    return count\n",
    "\n",
    "\n",
    "    \n",
    "def solution(A, B):\n",
    "    n = len(A)\n",
    "    sum_A = sum(A)\n",
    "    sum_B = sum(B)\n",
    "    d = sum_B - sum_A\n",
    "    count = counting(A, m)\n",
    "    for i in range(n):\n",
    "        if m >= B[i] - d >= 0 and count[B[i] - d] > 0:\n",
    "            return True\n",
    "        "
   ]
  }
 ],
 "metadata": {
  "kernelspec": {
   "display_name": "Python 3",
   "language": "python",
   "name": "python3"
  },
  "language_info": {
   "codemirror_mode": {
    "name": "ipython",
    "version": 3
   },
   "file_extension": ".py",
   "mimetype": "text/x-python",
   "name": "python",
   "nbconvert_exporter": "python",
   "pygments_lexer": "ipython3",
   "version": "3.7.4"
  }
 },
 "nbformat": 4,
 "nbformat_minor": 2
}
