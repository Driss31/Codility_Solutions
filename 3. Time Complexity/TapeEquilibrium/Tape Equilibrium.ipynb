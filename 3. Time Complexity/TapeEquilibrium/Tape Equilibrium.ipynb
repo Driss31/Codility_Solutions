{
 "cells": [
  {
   "cell_type": "markdown",
   "metadata": {},
   "source": [
    "# TapeEquilibrium (100%)"
   ]
  },
  {
   "cell_type": "markdown",
   "metadata": {},
   "source": [
    "The difference between the two parts is the value of: |(A[0] + A[1] + ... + A[P − 1]) − (A[P] + A[P + 1] + ... + A[N − 1])|\n",
    "\n",
    "Given a non-empty array A of N integers, returns the minimal difference that can be achieved"
   ]
  },
  {
   "cell_type": "code",
   "execution_count": null,
   "metadata": {},
   "outputs": [],
   "source": [
    "def solution(A):\n",
    "    # write your code in Python 3.6\n",
    "    sum_right = sum(A[1:])\n",
    "    sum_left = A[0]\n",
    "    min_diff = abs(sum_left - sum_right)\n",
    "    \n",
    "    for i in range(1, len(A) - 1):\n",
    "        sum_left += A[i]\n",
    "        sum_right -= A[i]\n",
    "        min_diff = min(min_diff, abs(sum_left - sum_right))\n",
    "        \n",
    "    return min_diff"
   ]
  }
 ],
 "metadata": {
  "kernelspec": {
   "display_name": "Python 3",
   "language": "python",
   "name": "python3"
  },
  "language_info": {
   "codemirror_mode": {
    "name": "ipython",
    "version": 3
   },
   "file_extension": ".py",
   "mimetype": "text/x-python",
   "name": "python",
   "nbconvert_exporter": "python",
   "pygments_lexer": "ipython3",
   "version": "3.7.4"
  }
 },
 "nbformat": 4,
 "nbformat_minor": 2
}
